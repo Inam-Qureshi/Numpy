{
 "cells": [
  {
   "cell_type": "markdown",
   "id": "fc829b49-16bf-4907-89f3-6519b22347b8",
   "metadata": {},
   "source": [
    "# Example"
   ]
  },
  {
   "cell_type": "code",
   "execution_count": 2,
   "id": "17ea7fc6-9589-4b6e-aa78-ad63555b7665",
   "metadata": {},
   "outputs": [
    {
     "name": "stdout",
     "output_type": "stream",
     "text": [
      "[1 2 3 4 5]\n"
     ]
    }
   ],
   "source": [
    "import numpy as np\n",
    "arr1= np.array([1,2,3,4,5])\n",
    "print(arr1)"
   ]
  },
  {
   "cell_type": "markdown",
   "id": "1ff9503e-66ed-4d59-b662-c8e90333f1cd",
   "metadata": {},
   "source": [
    "# We can create a NumPy ndarray object by using the array() function."
   ]
  },
  {
   "cell_type": "code",
   "execution_count": 3,
   "id": "fa955e1d-0b43-4836-a56f-24c7288702ec",
   "metadata": {},
   "outputs": [
    {
     "name": "stdout",
     "output_type": "stream",
     "text": [
      "[4, 5, 6, 7]\n",
      "<class 'list'>\n"
     ]
    }
   ],
   "source": [
    "arr2= ([4,5,6,7])\n",
    "print(arr2)\n",
    "print(type(arr2))"
   ]
  },
  {
   "cell_type": "markdown",
   "id": "e2a071d5-80fa-4f0a-b302-4919b02a9b86",
   "metadata": {},
   "source": [
    "# Dimensions in Arrays:\n",
    "A dimension in arrays is one level of array depth (nested arrays)."
   ]
  },
  {
   "cell_type": "code",
   "execution_count": 95,
   "id": "35b53a24-2819-4b71-9c1a-40177e34c4cd",
   "metadata": {},
   "outputs": [
    {
     "name": "stdout",
     "output_type": "stream",
     "text": [
      "[[1 2 3]\n",
      " [4 5 6]]\n"
     ]
    },
    {
     "data": {
      "text/plain": [
       "8"
      ]
     },
     "execution_count": 95,
     "metadata": {},
     "output_type": "execute_result"
    }
   ],
   "source": [
    "arr3=np.array([[1,2,3],[4,5,6]])\n",
    "print(arr3)\n",
    "arr3.ndim\n",
    "arr3.shape\n",
    "arr3.size\n",
    "arr3.itemsize\n"
   ]
  },
  {
   "cell_type": "markdown",
   "id": "c8391791-8c82-4f9d-b27a-86182eb61bdc",
   "metadata": {},
   "source": [
    "# 3-D arrays:\n",
    "An array that has 2-D arrays (matrices) as its elements is called 3-D array."
   ]
  },
  {
   "cell_type": "code",
   "execution_count": 5,
   "id": "dd930aab-b3e3-4998-bb18-480f576cccbf",
   "metadata": {},
   "outputs": [
    {
     "name": "stdout",
     "output_type": "stream",
     "text": [
      "[[[1 2 3]\n",
      "  [4 5 6]]\n",
      "\n",
      " [[1 2 3]\n",
      "  [4 5 6]]]\n"
     ]
    }
   ],
   "source": [
    "arr4 = np.array([[[1, 2, 3], [4, 5, 6]], [[1, 2, 3], [4, 5, 6]]])\n",
    "print(arr4)"
   ]
  },
  {
   "cell_type": "markdown",
   "id": "504fe876-c40e-4771-b17e-8148db3f590d",
   "metadata": {},
   "source": [
    "# How to find number of dimensions in array:"
   ]
  },
  {
   "cell_type": "code",
   "execution_count": 6,
   "id": "a94b9732-8ce4-4f01-9166-8e6cdb138aef",
   "metadata": {},
   "outputs": [
    {
     "name": "stdout",
     "output_type": "stream",
     "text": [
      "0\n",
      "1\n",
      "2\n",
      "3\n"
     ]
    }
   ],
   "source": [
    "\n",
    "a = np.array(42)\n",
    "b = np.array([1, 2, 3, 4, 5])\n",
    "c = np.array([[1, 2, 3], [4, 5, 6]])\n",
    "d = np.array([[[1, 2, 3], [4, 5, 6]], [[1, 2, 3], [4, 5, 6]]])\n",
    "print(a.ndim)\n",
    "print(b.ndim)\n",
    "print(c.ndim)\n",
    "print(d.ndim)"
   ]
  },
  {
   "cell_type": "code",
   "execution_count": 18,
   "id": "a5d56af7-8d09-4713-9803-cfc882e9ba88",
   "metadata": {},
   "outputs": [
    {
     "name": "stdout",
     "output_type": "stream",
     "text": [
      "[[[[[1 2 3 4]]]]]\n",
      "number of dimesnions are : 5\n"
     ]
    }
   ],
   "source": [
    "arr5=np.array([1,2,3,4], ndmin=5)\n",
    "print(arr5)\n",
    "print(\"number of dimesnions are :\", arr5.ndim)"
   ]
  },
  {
   "cell_type": "code",
   "execution_count": 23,
   "id": "a5abe5c7-9ed0-48b5-a334-bcbfbd0afe28",
   "metadata": {},
   "outputs": [
    {
     "name": "stdout",
     "output_type": "stream",
     "text": [
      "[[[[ 0  1]\n",
      "   [ 2  3]]\n",
      "\n",
      "  [[ 4  5]\n",
      "   [ 6  7]]]\n",
      "\n",
      "\n",
      " [[[ 8  9]\n",
      "   [10 11]]\n",
      "\n",
      "  [[12 13]\n",
      "   [14 15]]]]\n"
     ]
    }
   ],
   "source": [
    "arr6= np.arange(16).reshape(2,2,2,2)\n",
    "print(arr6)"
   ]
  },
  {
   "cell_type": "code",
   "execution_count": 27,
   "id": "0a60fcfd-2dcd-4048-bb6e-c832c7a71750",
   "metadata": {},
   "outputs": [
    {
     "data": {
      "text/plain": [
       "array([0])"
      ]
     },
     "execution_count": 27,
     "metadata": {},
     "output_type": "execute_result"
    }
   ],
   "source": [
    "arr6[]"
   ]
  },
  {
   "cell_type": "code",
   "execution_count": 28,
   "id": "bb8f5063-45bf-45cb-8c99-0154e143ae0d",
   "metadata": {},
   "outputs": [
    {
     "data": {
      "text/plain": [
       "array([14, 15])"
      ]
     },
     "execution_count": 28,
     "metadata": {},
     "output_type": "execute_result"
    }
   ],
   "source": [
    "arr6[1,1,1]"
   ]
  },
  {
   "cell_type": "code",
   "execution_count": 29,
   "id": "8dea9dbd-10fb-4b33-88c5-a70fb112e486",
   "metadata": {},
   "outputs": [
    {
     "data": {
      "text/plain": [
       "array([10, 11])"
      ]
     },
     "execution_count": 29,
     "metadata": {},
     "output_type": "execute_result"
    }
   ],
   "source": [
    "arr6[1,0,1]"
   ]
  },
  {
   "cell_type": "markdown",
   "id": "c9bebbb4-86bf-493e-bf79-9174ba1de7de",
   "metadata": {},
   "source": [
    "# Access Array Elements:\n",
    "Array indexing is the same as accessing an array element."
   ]
  },
  {
   "cell_type": "code",
   "execution_count": 30,
   "id": "aee671d4-5a5a-46d4-999c-4a9187f22974",
   "metadata": {},
   "outputs": [
    {
     "name": "stdout",
     "output_type": "stream",
     "text": [
      "3\n"
     ]
    }
   ],
   "source": [
    "arr7= np.array([5,4,3,2])\n",
    "print(arr7[2])"
   ]
  },
  {
   "cell_type": "markdown",
   "id": "4ab82f92-f3f9-4f79-98bd-87b185d3aee7",
   "metadata": {},
   "source": [
    "# dtype"
   ]
  },
  {
   "cell_type": "code",
   "execution_count": 76,
   "id": "966b10fd-77bb-46a5-8df0-977e90f81657",
   "metadata": {},
   "outputs": [
    {
     "name": "stdout",
     "output_type": "stream",
     "text": [
      "[False  True  True  True  True False  True False]\n"
     ]
    }
   ],
   "source": [
    "arr8= np.array([0,1,2,3,4,0,1,0],dtype=bool )\n",
    "print(arr8)"
   ]
  },
  {
   "cell_type": "markdown",
   "id": "bee44b48-e371-476d-8f19-220f96e8cd35",
   "metadata": {},
   "source": [
    "# np.zeroes and ones"
   ]
  },
  {
   "cell_type": "code",
   "execution_count": 58,
   "id": "052a13b6-19f1-4f7a-b598-36b24905ae25",
   "metadata": {},
   "outputs": [
    {
     "data": {
      "text/plain": [
       "array([[0., 0., 0.],\n",
       "       [0., 0., 0.]])"
      ]
     },
     "execution_count": 58,
     "metadata": {},
     "output_type": "execute_result"
    }
   ],
   "source": [
    "np.zeros((2,3))"
   ]
  },
  {
   "cell_type": "code",
   "execution_count": 59,
   "id": "63e6a4f2-57a4-4239-9a27-3a7e2fc2c784",
   "metadata": {},
   "outputs": [
    {
     "data": {
      "text/plain": [
       "array([[1., 1.],\n",
       "       [1., 1.],\n",
       "       [1., 1.]])"
      ]
     },
     "execution_count": 59,
     "metadata": {},
     "output_type": "execute_result"
    }
   ],
   "source": [
    "np.ones((3,2))"
   ]
  },
  {
   "cell_type": "markdown",
   "id": "2faf1be1-9513-4f53-b9a1-07c76aa8c5e8",
   "metadata": {},
   "source": [
    "# linspace"
   ]
  },
  {
   "cell_type": "code",
   "execution_count": 61,
   "id": "e808d0fd-e6c8-4dbd-b0c7-969cefd0c2ae",
   "metadata": {},
   "outputs": [
    {
     "data": {
      "text/plain": [
       "array([-5.        , -3.88888889, -2.77777778, -1.66666667, -0.55555556,\n",
       "        0.55555556,  1.66666667,  2.77777778,  3.88888889,  5.        ])"
      ]
     },
     "execution_count": 61,
     "metadata": {},
     "output_type": "execute_result"
    }
   ],
   "source": [
    "np.linspace(-5,5,10)"
   ]
  },
  {
   "cell_type": "markdown",
   "id": "a5cd7404-328b-42eb-bc3d-9350bc1d29e3",
   "metadata": {},
   "source": [
    "# np.identity"
   ]
  },
  {
   "cell_type": "code",
   "execution_count": 98,
   "id": "b048c1da-fbf2-41aa-90b3-c32de87b3e2b",
   "metadata": {},
   "outputs": [
    {
     "data": {
      "text/plain": [
       "array([[1., 0., 0.],\n",
       "       [0., 1., 0.],\n",
       "       [0., 0., 1.]])"
      ]
     },
     "execution_count": 98,
     "metadata": {},
     "output_type": "execute_result"
    }
   ],
   "source": [
    "np.identity(3)"
   ]
  },
  {
   "cell_type": "markdown",
   "id": "cd84f513-762a-436a-8e31-0fb0d4dde118",
   "metadata": {},
   "source": [
    "\n",
    "# astype: chnaging the type of data"
   ]
  },
  {
   "cell_type": "code",
   "execution_count": 79,
   "id": "103513f9-d9a7-41cb-b949-76d4be12e3bb",
   "metadata": {},
   "outputs": [
    {
     "data": {
      "text/plain": [
       "dtype('bool')"
      ]
     },
     "execution_count": 79,
     "metadata": {},
     "output_type": "execute_result"
    }
   ],
   "source": [
    "arr8.dtype"
   ]
  },
  {
   "cell_type": "code",
   "execution_count": 78,
   "id": "0ca30121-de61-44a8-9089-1cb933f04976",
   "metadata": {},
   "outputs": [
    {
     "data": {
      "text/plain": [
       "array([0, 1, 1, 1, 1, 0, 1, 0], dtype=int32)"
      ]
     },
     "execution_count": 78,
     "metadata": {},
     "output_type": "execute_result"
    }
   ],
   "source": [
    "arr8.astype(np.int32)"
   ]
  },
  {
   "cell_type": "markdown",
   "id": "cc094d7b-e9e9-4d3c-8f42-20de7ea02b65",
   "metadata": {},
   "source": [
    "# arithematic operations : we can apply different arithemetic operations in numpy(+,-,*,**,/%) "
   ]
  },
  {
   "cell_type": "code",
   "execution_count": 80,
   "id": "31f3c98d-7b1c-4501-b55a-c294fa3e812f",
   "metadata": {},
   "outputs": [
    {
     "data": {
      "text/plain": [
       "array([[ 0,  1,  2,  3],\n",
       "       [ 4,  5,  6,  7],\n",
       "       [ 8,  9, 10, 11]])"
      ]
     },
     "execution_count": 80,
     "metadata": {},
     "output_type": "execute_result"
    }
   ],
   "source": [
    "a1=np.arange(12).reshape(3,4)\n",
    "a2=np.arange(12,24).reshape(3,4)\n",
    "a1"
   ]
  },
  {
   "cell_type": "code",
   "execution_count": 84,
   "id": "cbe5e3b8-0a31-43ea-a27e-223a8c844bd2",
   "metadata": {},
   "outputs": [
    {
     "data": {
      "text/plain": [
       "array([[ 0,  2,  4,  6],\n",
       "       [ 8, 10, 12, 14],\n",
       "       [16, 18, 20, 22]])"
      ]
     },
     "execution_count": 84,
     "metadata": {},
     "output_type": "execute_result"
    }
   ],
   "source": [
    "a1*2"
   ]
  },
  {
   "cell_type": "markdown",
   "id": "f1db35c0-0880-467d-a4e9-3d6fe885cb08",
   "metadata": {},
   "source": [
    "# relational operations"
   ]
  },
  {
   "cell_type": "code",
   "execution_count": 85,
   "id": "d8ead453-c48e-41dd-9823-2194b9f856cf",
   "metadata": {},
   "outputs": [
    {
     "data": {
      "text/plain": [
       "array([[False, False, False,  True],\n",
       "       [ True,  True,  True,  True],\n",
       "       [ True,  True,  True,  True]])"
      ]
     },
     "execution_count": 85,
     "metadata": {},
     "output_type": "execute_result"
    }
   ],
   "source": [
    "a1>2"
   ]
  },
  {
   "cell_type": "code",
   "execution_count": 89,
   "id": "dfda8ef6-9eb9-45ee-b595-cace42045c03",
   "metadata": {},
   "outputs": [
    {
     "data": {
      "text/plain": [
       "array([[  0,  13,  28,  45],\n",
       "       [ 64,  85, 108, 133],\n",
       "       [160, 189, 220, 253]])"
      ]
     },
     "execution_count": 89,
     "metadata": {},
     "output_type": "execute_result"
    }
   ],
   "source": [
    "a1*a2 # we can also perform all operations on whole array set(+,-,*,/) "
   ]
  },
  {
   "cell_type": "markdown",
   "id": "d292520f-18d9-4d69-9459-e77e2c533a17",
   "metadata": {},
   "source": [
    "# Array Functions:"
   ]
  },
  {
   "cell_type": "code",
   "execution_count": 114,
   "id": "ea8d0750-4640-446f-8038-8ffc8e4b6e40",
   "metadata": {},
   "outputs": [
    {
     "data": {
      "text/plain": [
       "array([[78, 82, 82],\n",
       "       [21, 17, 24],\n",
       "       [72, 69, 13]], dtype=int32)"
      ]
     },
     "execution_count": 114,
     "metadata": {},
     "output_type": "execute_result"
    }
   ],
   "source": [
    "a1=np.random.random((3,3))\n",
    "a1=np.round(a1*100)\n",
    "a1\n",
    "a1.dtype\n",
    "a1.astype(np.int32)"
   ]
  },
  {
   "cell_type": "code",
   "execution_count": 115,
   "id": "1043460d-3214-43f0-8336-54b078cce2b0",
   "metadata": {},
   "outputs": [
    {
     "data": {
      "text/plain": [
       "np.float64(82.0)"
      ]
     },
     "execution_count": 115,
     "metadata": {},
     "output_type": "execute_result"
    }
   ],
   "source": [
    "np.max(a1)"
   ]
  },
  {
   "cell_type": "code",
   "execution_count": 116,
   "id": "d7191882-08f5-4885-a999-7310278f064f",
   "metadata": {},
   "outputs": [
    {
     "data": {
      "text/plain": [
       "np.float64(458.0)"
      ]
     },
     "execution_count": 116,
     "metadata": {},
     "output_type": "execute_result"
    }
   ],
   "source": [
    "np.sum(a1)"
   ]
  },
  {
   "cell_type": "code",
   "execution_count": 118,
   "id": "8c103afd-062a-46d9-9b84-33f924f35a97",
   "metadata": {},
   "outputs": [
    {
     "data": {
      "text/plain": [
       "np.float64(290219576984064.0)"
      ]
     },
     "execution_count": 118,
     "metadata": {},
     "output_type": "execute_result"
    }
   ],
   "source": [
    "np.prod(a1)"
   ]
  },
  {
   "cell_type": "code",
   "execution_count": 119,
   "id": "e82f42b3-fbf0-49eb-8d95-326ca7044722",
   "metadata": {},
   "outputs": [
    {
     "data": {
      "text/plain": [
       "array([78., 82., 82.])"
      ]
     },
     "execution_count": 119,
     "metadata": {},
     "output_type": "execute_result"
    }
   ],
   "source": [
    "np.max(a1,axis=0)"
   ]
  },
  {
   "cell_type": "code",
   "execution_count": 127,
   "id": "05a30f75-48a5-45de-aad5-4116c88de3fe",
   "metadata": {},
   "outputs": [
    {
     "data": {
      "text/plain": [
       "array([[  0,  10,  20,  30],\n",
       "       [ 40,  50,  60,  70],\n",
       "       [ 80,  90, 100, 110],\n",
       "       [120, 130, 140, 150]])"
      ]
     },
     "execution_count": 127,
     "metadata": {},
     "output_type": "execute_result"
    }
   ],
   "source": [
    "a2=np.arange(16).reshape(4,4)\n",
    "a2=np.round(a2*10)\n",
    "a2"
   ]
  },
  {
   "cell_type": "markdown",
   "id": "913e9ca0-9abc-448b-855a-e63215d51615",
   "metadata": {},
   "source": [
    "# Mean/Median/Mode/Str/Var:"
   ]
  },
  {
   "cell_type": "code",
   "execution_count": 132,
   "id": "5f857998-9b59-4582-b798-e08adfbc6c27",
   "metadata": {},
   "outputs": [
    {
     "data": {
      "text/plain": [
       "array([[[ 0,  1,  2],\n",
       "        [ 3,  4,  5]],\n",
       "\n",
       "       [[ 6,  7,  8],\n",
       "        [ 9, 10, 11]]])"
      ]
     },
     "execution_count": 132,
     "metadata": {},
     "output_type": "execute_result"
    }
   ],
   "source": [
    "a3=np.arange(12).reshape(2,2,3)\n",
    "a3\n"
   ]
  },
  {
   "cell_type": "code",
   "execution_count": 130,
   "id": "95e7671d-7b79-4330-b806-32bee8f90a78",
   "metadata": {},
   "outputs": [
    {
     "data": {
      "text/plain": [
       "np.float64(5.5)"
      ]
     },
     "execution_count": 130,
     "metadata": {},
     "output_type": "execute_result"
    }
   ],
   "source": [
    "np.mean(a3)"
   ]
  },
  {
   "cell_type": "code",
   "execution_count": 133,
   "id": "0600552a-7db4-4ea8-a5b9-01a1d3571bad",
   "metadata": {},
   "outputs": [
    {
     "data": {
      "text/plain": [
       "np.float64(5.5)"
      ]
     },
     "execution_count": 133,
     "metadata": {},
     "output_type": "execute_result"
    }
   ],
   "source": [
    "np.median(a3)"
   ]
  },
  {
   "cell_type": "code",
   "execution_count": 135,
   "id": "42744cfd-7c2c-4fe1-bb3a-e0fd1222515d",
   "metadata": {},
   "outputs": [
    {
     "data": {
      "text/plain": [
       "np.float64(3.452052529534663)"
      ]
     },
     "execution_count": 135,
     "metadata": {},
     "output_type": "execute_result"
    }
   ],
   "source": [
    "np.std(a3)"
   ]
  },
  {
   "cell_type": "code",
   "execution_count": 136,
   "id": "94aace8c-3acb-4316-bb45-62dc31604e46",
   "metadata": {},
   "outputs": [
    {
     "data": {
      "text/plain": [
       "np.float64(11.916666666666666)"
      ]
     },
     "execution_count": 136,
     "metadata": {},
     "output_type": "execute_result"
    }
   ],
   "source": [
    "np.var(a3)"
   ]
  },
  {
   "cell_type": "markdown",
   "id": "bb6de82b-7a09-43e5-9795-f4a743641163",
   "metadata": {},
   "source": [
    "# Dot product:"
   ]
  },
  {
   "cell_type": "code",
   "execution_count": 138,
   "id": "d61433f3-6130-4e36-a41f-afd13a074a5c",
   "metadata": {},
   "outputs": [
    {
     "data": {
      "text/plain": [
       "array([[114, 120, 126],\n",
       "       [378, 400, 422],\n",
       "       [642, 680, 718]])"
      ]
     },
     "execution_count": 138,
     "metadata": {},
     "output_type": "execute_result"
    }
   ],
   "source": [
    "a4=np.arange(12).reshape(3,4)\n",
    "a5=np.arange(12,24).reshape(4,3)\n",
    "np.dot(a4,a5)"
   ]
  },
  {
   "cell_type": "markdown",
   "id": "873b15e8-2680-48cd-a762-413a66676eef",
   "metadata": {},
   "source": [
    "# Log & Exponents"
   ]
  },
  {
   "cell_type": "code",
   "execution_count": 141,
   "id": "5aed9520-c313-412c-91b5-b07ae058a0b7",
   "metadata": {},
   "outputs": [
    {
     "name": "stderr",
     "output_type": "stream",
     "text": [
      "C:\\Users\\NOMI\\AppData\\Local\\Temp\\ipykernel_3088\\1746476887.py:1: RuntimeWarning: divide by zero encountered in log\n",
      "  np.log(a4)\n"
     ]
    },
    {
     "data": {
      "text/plain": [
       "array([[      -inf, 0.        , 0.69314718, 1.09861229],\n",
       "       [1.38629436, 1.60943791, 1.79175947, 1.94591015],\n",
       "       [2.07944154, 2.19722458, 2.30258509, 2.39789527]])"
      ]
     },
     "execution_count": 141,
     "metadata": {},
     "output_type": "execute_result"
    }
   ],
   "source": [
    "np.log(a4)"
   ]
  },
  {
   "cell_type": "code",
   "execution_count": 142,
   "id": "a0062365-1165-4b42-a96d-456c7b4eeef5",
   "metadata": {},
   "outputs": [
    {
     "data": {
      "text/plain": [
       "array([[1.62754791e+05, 4.42413392e+05, 1.20260428e+06],\n",
       "       [3.26901737e+06, 8.88611052e+06, 2.41549528e+07],\n",
       "       [6.56599691e+07, 1.78482301e+08, 4.85165195e+08],\n",
       "       [1.31881573e+09, 3.58491285e+09, 9.74480345e+09]])"
      ]
     },
     "execution_count": 142,
     "metadata": {},
     "output_type": "execute_result"
    }
   ],
   "source": [
    "np.exp(a5)"
   ]
  },
  {
   "cell_type": "markdown",
   "id": "2d96bc64-9433-42db-a29f-c066fa31b333",
   "metadata": {},
   "source": [
    "# Round/floor/ceil"
   ]
  },
  {
   "cell_type": "code",
   "execution_count": 144,
   "id": "71476be0-fd03-4904-853c-01049ade3f75",
   "metadata": {},
   "outputs": [
    {
     "data": {
      "text/plain": [
       "array([[51.85639411, 79.70854836, 61.61870322],\n",
       "       [81.14705493, 96.98287851, 53.73516862]])"
      ]
     },
     "execution_count": 144,
     "metadata": {},
     "output_type": "execute_result"
    }
   ],
   "source": [
    "np.random.random((2,3))*100"
   ]
  },
  {
   "cell_type": "code",
   "execution_count": 146,
   "id": "dab09d8e-b9dd-478b-9d60-57bd315b1227",
   "metadata": {},
   "outputs": [
    {
     "data": {
      "text/plain": [
       "array([[1., 1., 1.],\n",
       "       [1., 0., 1.]])"
      ]
     },
     "execution_count": 146,
     "metadata": {},
     "output_type": "execute_result"
    }
   ],
   "source": [
    "np.round(np.random.random((2,3))) # round off to the nearest integer"
   ]
  },
  {
   "cell_type": "code",
   "execution_count": 147,
   "id": "c1e4a624-ab28-4cab-a1d3-7ae33c2be08f",
   "metadata": {},
   "outputs": [
    {
     "data": {
      "text/plain": [
       "array([[0., 0., 0.],\n",
       "       [0., 0., 0.]])"
      ]
     },
     "execution_count": 147,
     "metadata": {},
     "output_type": "execute_result"
    }
   ],
   "source": [
    "np.floor(np.random.random((2,3))) # look the value behind the point as if there is 61.9 it will take 61"
   ]
  },
  {
   "cell_type": "code",
   "execution_count": 148,
   "id": "bf0a3024-5ad6-4916-b79c-182124a03fb3",
   "metadata": {},
   "outputs": [
    {
     "data": {
      "text/plain": [
       "array([[1., 1., 1.],\n",
       "       [1., 1., 1.]])"
      ]
     },
     "execution_count": 148,
     "metadata": {},
     "output_type": "execute_result"
    }
   ],
   "source": [
    "np.ceil(np.random.random((2,3))) #it looks foeward value as if there is 6.7 then it will take 7"
   ]
  },
  {
   "cell_type": "markdown",
   "id": "0590359a-dc48-4e03-bff3-0167e0819f64",
   "metadata": {},
   "source": [
    "# Indexing and Slicing:"
   ]
  },
  {
   "cell_type": "code",
   "execution_count": 151,
   "id": "f9e4b8c0-d18b-4282-b92a-917d8feb3810",
   "metadata": {},
   "outputs": [
    {
     "data": {
      "text/plain": [
       "array([[ 0,  1,  2,  3],\n",
       "       [ 4,  5,  6,  7],\n",
       "       [ 8,  9, 10, 11]])"
      ]
     },
     "execution_count": 151,
     "metadata": {},
     "output_type": "execute_result"
    }
   ],
   "source": [
    "a4 # slicing"
   ]
  },
  {
   "cell_type": "code",
   "execution_count": 152,
   "id": "cbfe8185-d9d1-4370-b8bb-c17e45700358",
   "metadata": {},
   "outputs": [
    {
     "data": {
      "text/plain": [
       "array([4, 5, 6, 7])"
      ]
     },
     "execution_count": 152,
     "metadata": {},
     "output_type": "execute_result"
    }
   ],
   "source": [
    "a4[1,:]"
   ]
  },
  {
   "cell_type": "code",
   "execution_count": 153,
   "id": "90568947-b400-4fba-9fea-6b3c8af946d4",
   "metadata": {},
   "outputs": [
    {
     "data": {
      "text/plain": [
       "array([ 2,  6, 10])"
      ]
     },
     "execution_count": 153,
     "metadata": {},
     "output_type": "execute_result"
    }
   ],
   "source": [
    "a4[:,2]"
   ]
  },
  {
   "cell_type": "code",
   "execution_count": 157,
   "id": "158ac05a-c6d3-4524-bfd7-cfa84bb0939e",
   "metadata": {},
   "outputs": [
    {
     "data": {
      "text/plain": [
       "array([[ 5,  6],\n",
       "       [ 9, 10]])"
      ]
     },
     "execution_count": 157,
     "metadata": {},
     "output_type": "execute_result"
    }
   ],
   "source": [
    "a4[1:,1:3]"
   ]
  },
  {
   "cell_type": "code",
   "execution_count": 162,
   "id": "cc96ca8f-72ec-432b-a3d7-182a321beb17",
   "metadata": {},
   "outputs": [
    {
     "data": {
      "text/plain": [
       "array([[1, 2, 3],\n",
       "       [5, 6, 7]])"
      ]
     },
     "execution_count": 162,
     "metadata": {},
     "output_type": "execute_result"
    }
   ],
   "source": [
    "a4[0:2,1:]"
   ]
  },
  {
   "cell_type": "code",
   "execution_count": 164,
   "id": "4890e0eb-a072-47f5-81aa-3302d7690b11",
   "metadata": {},
   "outputs": [
    {
     "data": {
      "text/plain": [
       "array([[[ 0,  1,  2],\n",
       "        [ 3,  4,  5],\n",
       "        [ 6,  7,  8]],\n",
       "\n",
       "       [[ 9, 10, 11],\n",
       "        [12, 13, 14],\n",
       "        [15, 16, 17]],\n",
       "\n",
       "       [[18, 19, 20],\n",
       "        [21, 22, 23],\n",
       "        [24, 25, 26]]])"
      ]
     },
     "execution_count": 164,
     "metadata": {},
     "output_type": "execute_result"
    }
   ],
   "source": [
    "a5=np.arange(27).reshape(3,3,3)\n",
    "a5"
   ]
  },
  {
   "cell_type": "code",
   "execution_count": 165,
   "id": "7b96b419-5fcd-4fa3-b4c9-492ab2d3f513",
   "metadata": {},
   "outputs": [
    {
     "data": {
      "text/plain": [
       "array([10, 13, 16])"
      ]
     },
     "execution_count": 165,
     "metadata": {},
     "output_type": "execute_result"
    }
   ],
   "source": [
    "a5[1,:,1]"
   ]
  },
  {
   "cell_type": "code",
   "execution_count": 166,
   "id": "2e22875a-4c66-41d2-9371-d0a4e3ea02a1",
   "metadata": {},
   "outputs": [
    {
     "data": {
      "text/plain": [
       "array([[22, 23],\n",
       "       [25, 26]])"
      ]
     },
     "execution_count": 166,
     "metadata": {},
     "output_type": "execute_result"
    }
   ],
   "source": [
    "a5[2,1:,1:]"
   ]
  },
  {
   "cell_type": "code",
   "execution_count": 169,
   "id": "cf807c29-89a6-4688-8cc7-5a1fd310bcae",
   "metadata": {},
   "outputs": [
    {
     "data": {
      "text/plain": [
       "array([[  0,  10,  20,  30],\n",
       "       [ 40,  50,  60,  70],\n",
       "       [ 80,  90, 100, 110],\n",
       "       [120, 130, 140, 150]])"
      ]
     },
     "execution_count": 169,
     "metadata": {},
     "output_type": "execute_result"
    }
   ],
   "source": [
    "a2"
   ]
  },
  {
   "cell_type": "code",
   "execution_count": 170,
   "id": "e54ffc65-be01-4e85-861d-34169a156622",
   "metadata": {},
   "outputs": [
    {
     "data": {
      "text/plain": [
       "array([[  0,  40,  80, 120],\n",
       "       [ 10,  50,  90, 130],\n",
       "       [ 20,  60, 100, 140],\n",
       "       [ 30,  70, 110, 150]])"
      ]
     },
     "execution_count": 170,
     "metadata": {},
     "output_type": "execute_result"
    }
   ],
   "source": [
    "a2.T #Transpose"
   ]
  },
  {
   "cell_type": "code",
   "execution_count": 171,
   "id": "d4819c0b-7a20-4b69-9e7d-8f4efb709ff7",
   "metadata": {},
   "outputs": [
    {
     "data": {
      "text/plain": [
       "array([[[ 0,  1,  2],\n",
       "        [ 3,  4,  5],\n",
       "        [ 6,  7,  8]],\n",
       "\n",
       "       [[ 9, 10, 11],\n",
       "        [12, 13, 14],\n",
       "        [15, 16, 17]],\n",
       "\n",
       "       [[18, 19, 20],\n",
       "        [21, 22, 23],\n",
       "        [24, 25, 26]]])"
      ]
     },
     "execution_count": 171,
     "metadata": {},
     "output_type": "execute_result"
    }
   ],
   "source": [
    "a5"
   ]
  },
  {
   "cell_type": "code",
   "execution_count": 172,
   "id": "2c3761d6-b2c0-472c-9f62-eef38e7460ff",
   "metadata": {},
   "outputs": [
    {
     "data": {
      "text/plain": [
       "array([ 0,  1,  2,  3,  4,  5,  6,  7,  8,  9, 10, 11, 12, 13, 14, 15, 16,\n",
       "       17, 18, 19, 20, 21, 22, 23, 24, 25, 26])"
      ]
     },
     "execution_count": 172,
     "metadata": {},
     "output_type": "execute_result"
    }
   ],
   "source": [
    "a5.ravel() #it will converts any dimesnions(2d,3d,4d) into one dimension :"
   ]
  },
  {
   "cell_type": "code",
   "execution_count": 173,
   "id": "3ecd7d60-991e-42d3-8ea0-30d13096f3b0",
   "metadata": {},
   "outputs": [
    {
     "data": {
      "text/plain": [
       "array([[ 0,  1,  2,  9, 10, 11, 18, 19, 20],\n",
       "       [ 3,  4,  5, 12, 13, 14, 21, 22, 23],\n",
       "       [ 6,  7,  8, 15, 16, 17, 24, 25, 26]])"
      ]
     },
     "execution_count": 173,
     "metadata": {},
     "output_type": "execute_result"
    }
   ],
   "source": [
    "np.hstack(a5)"
   ]
  },
  {
   "cell_type": "code",
   "execution_count": 174,
   "id": "cca59c0f-1fa2-4677-8b7e-e2df8cc2fe5c",
   "metadata": {},
   "outputs": [
    {
     "data": {
      "text/plain": [
       "array([[ 0,  1,  2],\n",
       "       [ 3,  4,  5],\n",
       "       [ 6,  7,  8],\n",
       "       [ 9, 10, 11],\n",
       "       [12, 13, 14],\n",
       "       [15, 16, 17],\n",
       "       [18, 19, 20],\n",
       "       [21, 22, 23],\n",
       "       [24, 25, 26]])"
      ]
     },
     "execution_count": 174,
     "metadata": {},
     "output_type": "execute_result"
    }
   ],
   "source": [
    "np.vstack(a5)"
   ]
  },
  {
   "cell_type": "code",
   "execution_count": null,
   "id": "bfe6f45a-478a-4055-98ea-43384c937842",
   "metadata": {},
   "outputs": [],
   "source": []
  }
 ],
 "metadata": {
  "kernelspec": {
   "display_name": "Python 3 (ipykernel)",
   "language": "python",
   "name": "python3"
  },
  "language_info": {
   "codemirror_mode": {
    "name": "ipython",
    "version": 3
   },
   "file_extension": ".py",
   "mimetype": "text/x-python",
   "name": "python",
   "nbconvert_exporter": "python",
   "pygments_lexer": "ipython3",
   "version": "3.12.2"
  }
 },
 "nbformat": 4,
 "nbformat_minor": 5
}
